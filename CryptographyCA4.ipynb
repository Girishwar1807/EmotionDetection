{
  "nbformat": 4,
  "nbformat_minor": 0,
  "metadata": {
    "colab": {
      "provenance": [],
      "gpuType": "T4",
      "authorship_tag": "ABX9TyNUb7E/G6SB8PJUHn20Ybec",
      "include_colab_link": true
    },
    "kernelspec": {
      "name": "python3",
      "display_name": "Python 3"
    },
    "language_info": {
      "name": "python"
    },
    "accelerator": "GPU"
  },
  "cells": [
    {
      "cell_type": "markdown",
      "metadata": {
        "id": "view-in-github",
        "colab_type": "text"
      },
      "source": [
        "<a href=\"https://colab.research.google.com/github/Girishwar1807/EmotionDetection/blob/main/CryptographyCA4.ipynb\" target=\"_parent\"><img src=\"https://colab.research.google.com/assets/colab-badge.svg\" alt=\"Open In Colab\"/></a>"
      ]
    },
    {
      "cell_type": "markdown",
      "source": [],
      "metadata": {
        "id": "1ZyYS8BHuXvW"
      }
    },
    {
      "cell_type": "code",
      "execution_count": 2,
      "metadata": {
        "id": "TkLDRBFqEAAk",
        "colab": {
          "base_uri": "https://localhost:8080/",
          "height": 0
        },
        "outputId": "55378ac0-1431-432c-acd7-599dd2cb99bd"
      },
      "outputs": [
        {
          "output_type": "stream",
          "name": "stdout",
          "text": [
            "Message: i am batman\n",
            "Encrypted: ['px37xr3n73 ', '3rglubzapfh27 9swm4ndt8jvkoiyq601ec6x']\n",
            "Decrypted: i am batman\n"
          ]
        }
      ],
      "source": [
        "#MONOALPHABETIC CIPHER\n",
        "\n",
        "import random\n",
        "\n",
        "alpha = \"abcdefghijklmnopqrstuvwxyz0123466789 \"\n",
        "\n",
        "def encrypt(original, key=None):\n",
        "\n",
        "    if key is None:\n",
        "        l = list(alpha)\n",
        "        random.shuffle(l)\n",
        "        key = \"\".join(l)\n",
        "\n",
        "    new = []\n",
        "\n",
        "    for letter in original:\n",
        "        new.append(key[alpha.index(letter)])\n",
        "\n",
        "    return [\"\".join(new), key]\n",
        "\n",
        "def decrypt(cipher, key=None):\n",
        "    if key is not None:\n",
        "        new = []\n",
        "        for letter in cipher:\n",
        "            new.append(alpha[key.index(letter)])\n",
        "\n",
        "        return \"\".join(new)\n",
        "msg = \"i am batman\"\n",
        "print (\"Message:\", msg)\n",
        "e = encrypt(msg, None)\n",
        "print(\"Encrypted:\",e)\n",
        "print(\"Decrypted:\",decrypt(e[0], e[1]))"
      ]
    },
    {
      "cell_type": "markdown",
      "source": [
        "# Caesar Cipher"
      ],
      "metadata": {
        "id": "pRkLESlPuwzO"
      }
    },
    {
      "cell_type": "code",
      "source": [
        "def encrypt(text,s):\n",
        "\tresult = \"\"\n",
        "\n",
        "\t# traverse text\n",
        "\tfor i in range(len(text)):\n",
        "\t\tchar = text[i]\n",
        "\n",
        "\t\t# Encrypt uppercase characters\n",
        "\t\tif (char.isupper()):\n",
        "\t\t\tresult += chr((ord(char) + s-65) % 26 + 65)\n",
        "\n",
        "\t\t# Encrypt lowercase characters\n",
        "\t\telse:\n",
        "\t\t\tresult += chr((ord(char) + s - 97) % 26 + 97)\n",
        "\n",
        "\treturn result\n",
        "\n",
        "#check the above function\n",
        "text = \"GameOfThrones\"\n",
        "s = 5\n",
        "print (\"Text : \" + text)\n",
        "print (\"Shift : \" + str(s))\n",
        "print (\"Cipher: \" + encrypt(text,s))"
      ],
      "metadata": {
        "colab": {
          "base_uri": "https://localhost:8080/",
          "height": 0
        },
        "id": "hDZmRX69ut4H",
        "outputId": "b5b19588-3d0f-43cb-ae3d-e7804e1439ad"
      },
      "execution_count": 4,
      "outputs": [
        {
          "output_type": "stream",
          "name": "stdout",
          "text": [
            "Text : GameOfThrones\n",
            "Shift : 5\n",
            "Cipher: LfrjTkYmwtsjx\n"
          ]
        }
      ]
    },
    {
      "cell_type": "markdown",
      "source": [],
      "metadata": {
        "id": "ctWN6_yJ9wmE"
      }
    },
    {
      "cell_type": "markdown",
      "source": [],
      "metadata": {
        "id": "tvW4Adua9wQ7"
      }
    },
    {
      "cell_type": "markdown",
      "source": [
        "# Vigenere Cipher\n"
      ],
      "metadata": {
        "id": "x0ft8JuKvOVM"
      }
    },
    {
      "cell_type": "code",
      "source": [
        "# This function generates the\n",
        "# key in a cyclic manner until\n",
        "# it's length isn't equal to\n",
        "# the length of original text\n",
        "def generateKey(string, key):\n",
        "\tkey = list(key)\n",
        "\tif len(string) == len(key):\n",
        "\t\treturn(key)\n",
        "\telse:\n",
        "\t\tfor i in range(len(string) -\n",
        "\t\t\t\t\tlen(key)):\n",
        "\t\t\tkey.append(key[i % len(key)])\n",
        "\treturn(\"\" . join(key))\n",
        "\n",
        "# This function returns the\n",
        "# encrypted text generated\n",
        "# with the help of the key\n",
        "def cipherText(string, key):\n",
        "\tcipher_text = []\n",
        "\tfor i in range(len(string)):\n",
        "\t\tx = (ord(string[i]) +\n",
        "\t\t\tord(key[i])) % 26\n",
        "\t\tx += ord('A')\n",
        "\t\tcipher_text.append(chr(x))\n",
        "\treturn(\"\" . join(cipher_text))\n",
        "\n",
        "# This function decrypts the\n",
        "# encrypted text and returns\n",
        "# the original text\n",
        "def originalText(cipher_text, key):\n",
        "\torig_text = []\n",
        "\tfor i in range(len(cipher_text)):\n",
        "\t\tx = (ord(cipher_text[i]) -\n",
        "\t\t\tord(key[i]) + 26) % 26\n",
        "\t\tx += ord('A')\n",
        "\t\torig_text.append(chr(x))\n",
        "\treturn(\"\" . join(orig_text))\n",
        "\n",
        "# Driver code\n",
        "if __name__ == \"__main__\":\n",
        "\tstring = \"TARGARYEN\"\n",
        "\tkeyword = \"dragon\"\n",
        "\tkey = generateKey(string, keyword)\n",
        "\tcipher_text = cipherText(string,key)\n",
        "\tprint(\"Ciphertext :\", cipher_text)\n",
        "\tprint(\"Original/Decrypted Text :\",\n",
        "\t\toriginalText(cipher_text, key))"
      ],
      "metadata": {
        "colab": {
          "base_uri": "https://localhost:8080/",
          "height": 0
        },
        "id": "7-UY_RXevZZ7",
        "outputId": "ec79aad4-4fb7-4ab2-c8db-159b376aa8aa"
      },
      "execution_count": 9,
      "outputs": [
        {
          "output_type": "stream",
          "name": "stdout",
          "text": [
            "Ciphertext : CXXSUKHBT\n",
            "Original/Decrypted Text : TARGARYEN\n"
          ]
        }
      ]
    },
    {
      "cell_type": "markdown",
      "source": [],
      "metadata": {
        "id": "ulJ1IWNe92Ok"
      }
    },
    {
      "cell_type": "markdown",
      "source": [],
      "metadata": {
        "id": "Gw0XptV9916c"
      }
    },
    {
      "cell_type": "markdown",
      "source": [
        "#Playfair Cipher"
      ],
      "metadata": {
        "id": "_I-HHcpKyNJV"
      }
    },
    {
      "cell_type": "code",
      "source": [
        "\n",
        "\n",
        "# Function to convert the string to lowercase\n",
        "\n",
        "\n",
        "def toLowerCase(text):\n",
        "\treturn text.lower()\n",
        "\n",
        "# Function to remove all spaces in a string\n",
        "\n",
        "\n",
        "def removeSpaces(text):\n",
        "\tnewText = \"\"\n",
        "\tfor i in text:\n",
        "\t\tif i == \" \":\n",
        "\t\t\tcontinue\n",
        "\t\telse:\n",
        "\t\t\tnewText = newText + i\n",
        "\treturn newText\n",
        "\n",
        "# Function to group 2 elements of a string\n",
        "# as a list element\n",
        "\n",
        "\n",
        "def Diagraph(text):\n",
        "\tDiagraph = []\n",
        "\tgroup = 0\n",
        "\tfor i in range(2, len(text), 2):\n",
        "\t\tDiagraph.append(text[group:i])\n",
        "\n",
        "\t\tgroup = i\n",
        "\tDiagraph.append(text[group:])\n",
        "\treturn Diagraph\n",
        "\n",
        "# Function to fill a letter in a string element\n",
        "# If 2 letters in the same string matches\n",
        "\n",
        "\n",
        "def FillerLetter(text):\n",
        "\tk = len(text)\n",
        "\tif k % 2 == 0:\n",
        "\t\tfor i in range(0, k, 2):\n",
        "\t\t\tif text[i] == text[i+1]:\n",
        "\t\t\t\tnew_word = text[0:i+1] + str('x') + text[i+1:]\n",
        "\t\t\t\tnew_word = FillerLetter(new_word)\n",
        "\t\t\t\tbreak\n",
        "\t\t\telse:\n",
        "\t\t\t\tnew_word = text\n",
        "\telse:\n",
        "\t\tfor i in range(0, k-1, 2):\n",
        "\t\t\tif text[i] == text[i+1]:\n",
        "\t\t\t\tnew_word = text[0:i+1] + str('x') + text[i+1:]\n",
        "\t\t\t\tnew_word = FillerLetter(new_word)\n",
        "\t\t\t\tbreak\n",
        "\t\t\telse:\n",
        "\t\t\t\tnew_word = text\n",
        "\treturn new_word\n",
        "\n",
        "\n",
        "list1 = ['a', 'b', 'c', 'd', 'e', 'f', 'g', 'h', 'i', 'k', 'l', 'm',\n",
        "\t\t'n', 'o', 'p', 'q', 'r', 's', 't', 'u', 'v', 'w', 'x', 'y', 'z']\n",
        "\n",
        "# Function to generate the 5x5 key square matrix\n",
        "\n",
        "\n",
        "def generateKeyTable(word, list1):\n",
        "\tkey_letters = []\n",
        "\tfor i in word:\n",
        "\t\tif i not in key_letters:\n",
        "\t\t\tkey_letters.append(i)\n",
        "\n",
        "\tcompElements = []\n",
        "\tfor i in key_letters:\n",
        "\t\tif i not in compElements:\n",
        "\t\t\tcompElements.append(i)\n",
        "\tfor i in list1:\n",
        "\t\tif i not in compElements:\n",
        "\t\t\tcompElements.append(i)\n",
        "\n",
        "\tmatrix = []\n",
        "\twhile compElements != []:\n",
        "\t\tmatrix.append(compElements[:5])\n",
        "\t\tcompElements = compElements[5:]\n",
        "\n",
        "\treturn matrix\n",
        "\n",
        "\n",
        "def search(mat, element):\n",
        "\tfor i in range(5):\n",
        "\t\tfor j in range(5):\n",
        "\t\t\tif(mat[i][j] == element):\n",
        "\t\t\t\treturn i, j\n",
        "\n",
        "\n",
        "def encrypt_RowRule(matr, e1r, e1c, e2r, e2c):\n",
        "\tchar1 = ''\n",
        "\tif e1c == 4:\n",
        "\t\tchar1 = matr[e1r][0]\n",
        "\telse:\n",
        "\t\tchar1 = matr[e1r][e1c+1]\n",
        "\n",
        "\tchar2 = ''\n",
        "\tif e2c == 4:\n",
        "\t\tchar2 = matr[e2r][0]\n",
        "\telse:\n",
        "\t\tchar2 = matr[e2r][e2c+1]\n",
        "\n",
        "\treturn char1, char2\n",
        "\n",
        "\n",
        "def encrypt_ColumnRule(matr, e1r, e1c, e2r, e2c):\n",
        "\tchar1 = ''\n",
        "\tif e1r == 4:\n",
        "\t\tchar1 = matr[0][e1c]\n",
        "\telse:\n",
        "\t\tchar1 = matr[e1r+1][e1c]\n",
        "\n",
        "\tchar2 = ''\n",
        "\tif e2r == 4:\n",
        "\t\tchar2 = matr[0][e2c]\n",
        "\telse:\n",
        "\t\tchar2 = matr[e2r+1][e2c]\n",
        "\n",
        "\treturn char1, char2\n",
        "\n",
        "\n",
        "def encrypt_RectangleRule(matr, e1r, e1c, e2r, e2c):\n",
        "\tchar1 = ''\n",
        "\tchar1 = matr[e1r][e2c]\n",
        "\n",
        "\tchar2 = ''\n",
        "\tchar2 = matr[e2r][e1c]\n",
        "\n",
        "\treturn char1, char2\n",
        "\n",
        "\n",
        "def encryptByPlayfairCipher(Matrix, plainList):\n",
        "\tCipherText = []\n",
        "\tfor i in range(0, len(plainList)):\n",
        "\t\tc1 = 0\n",
        "\t\tc2 = 0\n",
        "\t\tele1_x, ele1_y = search(Matrix, plainList[i][0])\n",
        "\t\tele2_x, ele2_y = search(Matrix, plainList[i][1])\n",
        "\n",
        "\t\tif ele1_x == ele2_x:\n",
        "\t\t\tc1, c2 = encrypt_RowRule(Matrix, ele1_x, ele1_y, ele2_x, ele2_y)\n",
        "\t\t\t# Get 2 letter cipherText\n",
        "\t\telif ele1_y == ele2_y:\n",
        "\t\t\tc1, c2 = encrypt_ColumnRule(Matrix, ele1_x, ele1_y, ele2_x, ele2_y)\n",
        "\t\telse:\n",
        "\t\t\tc1, c2 = encrypt_RectangleRule(\n",
        "\t\t\t\tMatrix, ele1_x, ele1_y, ele2_x, ele2_y)\n",
        "\n",
        "\t\tcipher = c1 + c2\n",
        "\t\tCipherText.append(cipher)\n",
        "\treturn CipherText\n",
        "\n",
        "\n",
        "text_Plain = 'LANNISTER'\n",
        "text_Plain = removeSpaces(toLowerCase(text_Plain))\n",
        "PlainTextList = Diagraph(FillerLetter(text_Plain))\n",
        "if len(PlainTextList[-1]) != 2:\n",
        "\tPlainTextList[-1] = PlainTextList[-1]+'z'\n",
        "\n",
        "key = \"THE WEALTHIEST OF THE WESTEROS\"\n",
        "print(\"Key text:\", key)\n",
        "key = toLowerCase(key)\n",
        "Matrix = generateKeyTable(key, list1)\n",
        "\n",
        "print(\"Plain Text:\", text_Plain)\n",
        "CipherList = encryptByPlayfairCipher(Matrix, PlainTextList)\n",
        "\n",
        "CipherText = \"\"\n",
        "for i in CipherList:\n",
        "\tCipherText += i\n",
        "print(\"CipherText:\", CipherText)\n"
      ],
      "metadata": {
        "colab": {
          "base_uri": "https://localhost:8080/",
          "height": 0
        },
        "id": "mNbcFwHeyQqm",
        "outputId": "1cadcbfd-3685-4115-d62c-6eb95b5dc52a"
      },
      "execution_count": 10,
      "outputs": [
        {
          "output_type": "stream",
          "name": "stdout",
          "text": [
            "Key text: THE WEALTHIEST OF THE WESTEROS\n",
            "Plain Text: lannister\n",
            "CipherText: ilx msa hb\n"
          ]
        }
      ]
    },
    {
      "cell_type": "markdown",
      "source": [
        "# Rail Fence Cipher Encryption"
      ],
      "metadata": {
        "id": "JMPI0vN5zq1M"
      }
    },
    {
      "cell_type": "code",
      "source": [
        "\n",
        "\n",
        "# function to encrypt a message\n",
        "def encryptRailFence(text, key):\n",
        "\n",
        "\t# create the matrix to cipher\n",
        "\t# plain text key = rows ,\n",
        "\t# length(text) = columns\n",
        "\t# filling the rail matrix\n",
        "\t# to distinguish filled\n",
        "\t# spaces from blank ones\n",
        "\trail = [['\\n' for i in range(len(text))]\n",
        "\t\t\t\tfor j in range(key)]\n",
        "\n",
        "\t# to find the direction\n",
        "\tdir_down = False\n",
        "\trow, col = 0, 0\n",
        "\n",
        "\tfor i in range(len(text)):\n",
        "\n",
        "\t\t# check the direction of flow\n",
        "\t\t# reverse the direction if we've just\n",
        "\t\t# filled the top or bottom rail\n",
        "\t\tif (row == 0) or (row == key - 1):\n",
        "\t\t\tdir_down = not dir_down\n",
        "\n",
        "\t\t# fill the corresponding alphabet\n",
        "\t\trail[row][col] = text[i]\n",
        "\t\tcol += 1\n",
        "\n",
        "\t\t# find the next row using\n",
        "\t\t# direction flag\n",
        "\t\tif dir_down:\n",
        "\t\t\trow += 1\n",
        "\t\telse:\n",
        "\t\t\trow -= 1\n",
        "\t# now we can construct the cipher\n",
        "\t# using the rail matrix\n",
        "\tresult = []\n",
        "\tfor i in range(key):\n",
        "\t\tfor j in range(len(text)):\n",
        "\t\t\tif rail[i][j] != '\\n':\n",
        "\t\t\t\tresult.append(rail[i][j])\n",
        "\treturn(\"\" . join(result))\n",
        "\n",
        "# This function receives cipher-text\n",
        "# and key and returns the original\n",
        "# text after decryption\n",
        "def decryptRailFence(cipher, key):\n",
        "\n",
        "\t# create the matrix to cipher\n",
        "\t# plain text key = rows ,\n",
        "\t# length(text) = columns\n",
        "\t# filling the rail matrix to\n",
        "\t# distinguish filled spaces\n",
        "\t# from blank ones\n",
        "\trail = [['\\n' for i in range(len(cipher))]\n",
        "\t\t\t\tfor j in range(key)]\n",
        "\n",
        "\t# to find the direction\n",
        "\tdir_down = None\n",
        "\trow, col = 0, 0\n",
        "\n",
        "\t# mark the places with '*'\n",
        "\tfor i in range(len(cipher)):\n",
        "\t\tif row == 0:\n",
        "\t\t\tdir_down = True\n",
        "\t\tif row == key - 1:\n",
        "\t\t\tdir_down = False\n",
        "\n",
        "\t\t# place the marker\n",
        "\t\trail[row][col] = '*'\n",
        "\t\tcol += 1\n",
        "\n",
        "\t\t# find the next row\n",
        "\t\t# using direction flag\n",
        "\t\tif dir_down:\n",
        "\t\t\trow += 1\n",
        "\t\telse:\n",
        "\t\t\trow -= 1\n",
        "\n",
        "\t# now we can construct the\n",
        "\t# fill the rail matrix\n",
        "\tindex = 0\n",
        "\tfor i in range(key):\n",
        "\t\tfor j in range(len(cipher)):\n",
        "\t\t\tif ((rail[i][j] == '*') and\n",
        "\t\t\t(index < len(cipher))):\n",
        "\t\t\t\trail[i][j] = cipher[index]\n",
        "\t\t\t\tindex += 1\n",
        "\n",
        "\t# now read the matrix in\n",
        "\t# zig-zag manner to construct\n",
        "\t# the resultant text\n",
        "\tresult = []\n",
        "\trow, col = 0, 0\n",
        "\tfor i in range(len(cipher)):\n",
        "\n",
        "\t\t# check the direction of flow\n",
        "\t\tif row == 0:\n",
        "\t\t\tdir_down = True\n",
        "\t\tif row == key-1:\n",
        "\t\t\tdir_down = False\n",
        "\n",
        "\t\t# place the marker\n",
        "\t\tif (rail[row][col] != '*'):\n",
        "\t\t\tresult.append(rail[row][col])\n",
        "\t\t\tcol += 1\n",
        "\n",
        "\t\t# find the next row using\n",
        "\t\t# direction flag\n",
        "\t\tif dir_down:\n",
        "\t\t\trow += 1\n",
        "\t\telse:\n",
        "\t\t\trow -= 1\n",
        "\treturn(\"\".join(result))\n",
        "\n",
        "# Driver code\n",
        "if __name__ == \"__main__\":\n",
        "\n",
        "\tprint(\"Cipher text:\", encryptRailFence(\"jaimelannister\", 3))\n",
        "\tprint(\"Decrypted message:\",decryptRailFence(\"jiamnelaneitsr\", 3))\n",
        "\tprint(\"Cipher text:\", encryptRailFence(\"E0120001\", 2))\n",
        "\tprint(\"Decrypted message:\",decryptRailFence(\"E1000201\", 2))\n",
        "\n",
        "\n",
        "\n",
        "\n"
      ],
      "metadata": {
        "colab": {
          "base_uri": "https://localhost:8080/",
          "height": 0
        },
        "id": "z2UnYPJJzuIh",
        "outputId": "73df1a71-355b-4cca-e67d-6a3a4f002496"
      },
      "execution_count": 16,
      "outputs": [
        {
          "output_type": "stream",
          "name": "stdout",
          "text": [
            "Cipher text: jeneamlnitrias\n",
            "Decrypted message: jnteilsaanremi\n",
            "Cipher text: E1000201\n",
            "Decrypted message: E0120001\n"
          ]
        }
      ]
    },
    {
      "cell_type": "markdown",
      "source": [
        "#one time pad"
      ],
      "metadata": {
        "id": "9rQcvOli1OSf"
      }
    },
    {
      "cell_type": "code",
      "source": [
        "\n",
        "\n",
        "# Python program Implementing One Time Pad Algorithm\n",
        "\n",
        "# Importing required classes\n",
        "# Method 1\n",
        "# Returning encrypted text\n",
        "\n",
        "\n",
        "def stringEncryption(text, key):\n",
        "\t# Initializing cipherText\n",
        "\tcipherText = \"\"\n",
        "\n",
        "\t# Initialize cipher array of key length\n",
        "\t# which stores the sum of corresponding no.'s\n",
        "\t# of plainText and key.\n",
        "\tcipher = []\n",
        "\tfor i in range(len(key)):\n",
        "\t\tcipher.append(ord(text[i]) - ord('A') + ord(key[i])-ord('A'))\n",
        "\n",
        "\t# If the sum is greater than 25\n",
        "\t# subtract 26 from it\n",
        "\t# and store that resulting value\n",
        "\tfor i in range(len(key)):\n",
        "\t\tif cipher[i] > 25:\n",
        "\t\t\tcipher[i] = cipher[i] - 26\n",
        "\n",
        "\t# Converting the no.'s into integers\n",
        "\t# Convert these integers to corresponding\n",
        "\t# characters and add them up to cipherText\n",
        "\n",
        "\tfor i in range(len(key)):\n",
        "\t\tx = cipher[i] + ord('A')\n",
        "\t\tcipherText += chr(x)\n",
        "\n",
        "\t# Returning the cipherText\n",
        "\treturn cipherText\n",
        "\n",
        "\n",
        "# Method 2\n",
        "# Returning plain text\n",
        "def stringDecryption(s, key):\n",
        "\n",
        "\t# Initializing plain text\n",
        "\tplainText = \"\"\n",
        "\n",
        "\t# Initializing integer array of key length\n",
        "\t# which stores difference\n",
        "\t# of corresponding no.'s of\n",
        "\t# each character of cipherText and key\n",
        "\n",
        "\tplain = []\n",
        "\n",
        "\t# Running for loop for each character\n",
        "\t# subtracting and storing in the array\n",
        "\n",
        "\tfor i in range(len(key)):\n",
        "\t\tplain.append(ord(s[i]) - ord('A') - (ord(key[i]) - ord('A')))\n",
        "\n",
        "\t# If the difference is less than 0\n",
        "\t# add 26 and store it in the array.\n",
        "\tfor i in range(len(key)):\n",
        "\t\tif (plain[i] < 0):\n",
        "\t\t\tplain[i] = plain[i] + 26\n",
        "\n",
        "\t# Converting int to corresponding char\n",
        "\t# add them up to plainText\n",
        "\n",
        "\tfor i in range(len(key)):\n",
        "\t\tx = plain[i] + ord('A')\n",
        "\t\tplainText += chr(x)\n",
        "\n",
        "\t# Returning plainText\n",
        "\treturn plainText\n",
        "\n",
        "\n",
        "plainText = \"HouseStark\"\n",
        "\n",
        "# Declaring key\n",
        "key = \"direwolfes\"\n",
        "\n",
        "# Converting plain text to toUpperCase\n",
        "# function call to stringEncryption\n",
        "# with plainText and key as parameters\n",
        "\n",
        "encryptedText = stringEncryption(plainText.upper(), key.upper())\n",
        "\n",
        "# Printing cipher Text\n",
        "print(\"Cipher Text - \" + encryptedText)\n",
        "\n",
        "# Calling above method to stringDecryption\n",
        "# with encryptedText and key as parameters\n",
        "print(\"Message - \" + stringDecryption(encryptedText, key.upper()))\n",
        "\n",
        "# This code is contributed by Pranay Arora\n"
      ],
      "metadata": {
        "colab": {
          "base_uri": "https://localhost:8080/",
          "height": 0
        },
        "id": "Mw69ij811Qhw",
        "outputId": "160c6280-6b43-4e31-af3a-7d84091c3cff"
      },
      "execution_count": 21,
      "outputs": [
        {
          "output_type": "stream",
          "name": "stdout",
          "text": [
            "Cipher Text - KWLWAGEFVC\n",
            "Message - HOUSESTARK\n"
          ]
        }
      ]
    },
    {
      "cell_type": "markdown",
      "source": [
        "# Hill Cipher"
      ],
      "metadata": {
        "id": "_hvR36t81z6y"
      }
    },
    {
      "cell_type": "code",
      "source": [
        "keyMatrix = [[0] * 3 for i in range(3)]\n",
        "\n",
        "# Generate vector for the message\n",
        "messageVector = [[0] for i in range(3)]\n",
        "\n",
        "# Generate vector for the cipher\n",
        "cipherMatrix = [[0] for i in range(3)]\n",
        "\n",
        "# Following function generates the\n",
        "# key matrix for the key string\n",
        "def getKeyMatrix(key):\n",
        "\tk = 0\n",
        "\tfor i in range(3):\n",
        "\t\tfor j in range(3):\n",
        "\t\t\tkeyMatrix[i][j] = ord(key[k]) % 65\n",
        "\t\t\tk += 1\n",
        "\n",
        "# Following function encrypts the message\n",
        "def encrypt(messageVector):\n",
        "\tfor i in range(3):\n",
        "\t\tfor j in range(1):\n",
        "\t\t\tcipherMatrix[i][j] = 0\n",
        "\t\t\tfor x in range(3):\n",
        "\t\t\t\tcipherMatrix[i][j] += (keyMatrix[i][x] *\n",
        "\t\t\t\t\t\t\t\t\tmessageVector[x][j])\n",
        "\t\t\tcipherMatrix[i][j] = cipherMatrix[i][j] % 26\n",
        "\n",
        "def HillCipher(message, key):\n",
        "\n",
        "\t# Get key matrix from the key string\n",
        "\tgetKeyMatrix(key)\n",
        "\n",
        "\t# Generate vector for the message\n",
        "\tfor i in range(3):\n",
        "\t\tmessageVector[i][0] = ord(message[i]) % 65\n",
        "\n",
        "\t# Following function generates\n",
        "\t# the encrypted vector\n",
        "\tencrypt(messageVector)\n",
        "\n",
        "\t# Generate the encrypted text\n",
        "\t# from the encrypted vector\n",
        "\tCipherText = []\n",
        "\tfor i in range(3):\n",
        "\t\tCipherText.append(chr(cipherMatrix[i][0] + 65))\n",
        "\n",
        "\t# Finally print the ciphertext\n",
        "\tprint(\"Ciphertext: \", \"\".join(CipherText))\n",
        "\n",
        "# Driver Code\n",
        "def main():\n",
        "\n",
        "\t# Get the message to\n",
        "\t# be encrypted\n",
        "\tmessage = \"e01\"\n",
        "\n",
        "\t# Get the key\n",
        "\tkey = \"GIRISHWARS\"\n",
        "\n",
        "\tHillCipher(message, key)\n",
        "\n",
        "if __name__ == \"__main__\":\n",
        "\tmain()"
      ],
      "metadata": {
        "colab": {
          "base_uri": "https://localhost:8080/",
          "height": 0
        },
        "id": "WQcIrG4L1zYC",
        "outputId": "93d8a860-56b2-42c1-f6fd-93a65e99c3b5"
      },
      "execution_count": 28,
      "outputs": [
        {
          "output_type": "stream",
          "name": "stdout",
          "text": [
            "Ciphertext:  DNN\n"
          ]
        }
      ]
    },
    {
      "cell_type": "markdown",
      "source": [
        "# Row Columnar Transposition"
      ],
      "metadata": {
        "id": "iubptMUg2vRo"
      }
    },
    {
      "cell_type": "code",
      "source": [
        "\n",
        "import math\n",
        "\n",
        "key = \"HEROS\"\n",
        "\n",
        "# Encryption\n",
        "def encryptMessage(msg):\n",
        "\tcipher = \"\"\n",
        "\n",
        "\t# track key indices\n",
        "\tk_indx = 0\n",
        "\n",
        "\tmsg_len = float(len(msg))\n",
        "\tmsg_lst = list(msg)\n",
        "\tkey_lst = sorted(list(key))\n",
        "\n",
        "\t# calculate column of the matrix\n",
        "\tcol = len(key)\n",
        "\n",
        "\t# calculate maximum row of the matrix\n",
        "\trow = int(math.ceil(msg_len / col))\n",
        "\n",
        "\t# add the padding character '_' in empty\n",
        "\t# the empty cell of the matix\n",
        "\tfill_null = int((row * col) - msg_len)\n",
        "\tmsg_lst.extend('_' * fill_null)\n",
        "\n",
        "\t# create Matrix and insert message and\n",
        "\t# padding characters row-wise\n",
        "\tmatrix = [msg_lst[i: i + col]\n",
        "\t\t\tfor i in range(0, len(msg_lst), col)]\n",
        "\n",
        "\t# read matrix column-wise using key\n",
        "\tfor _ in range(col):\n",
        "\t\tcurr_idx = key.index(key_lst[k_indx])\n",
        "\t\tcipher += ''.join([row[curr_idx]\n",
        "\t\t\t\t\t\tfor row in matrix])\n",
        "\t\tk_indx += 1\n",
        "\n",
        "\treturn cipher\n",
        "\n",
        "# Decryption\n",
        "def decryptMessage(cipher):\n",
        "\tmsg = \"\"\n",
        "\n",
        "\t# track key indices\n",
        "\tk_indx = 0\n",
        "\n",
        "\t# track msg indices\n",
        "\tmsg_indx = 0\n",
        "\tmsg_len = float(len(cipher))\n",
        "\tmsg_lst = list(cipher)\n",
        "\n",
        "\t# calculate column of the matrix\n",
        "\tcol = len(key)\n",
        "\n",
        "\t# calculate maximum row of the matrix\n",
        "\trow = int(math.ceil(msg_len / col))\n",
        "\n",
        "\t# convert key into list and sort\n",
        "\t# alphabetically so we can access\n",
        "\t# each character by its alphabetical position.\n",
        "\tkey_lst = sorted(list(key))\n",
        "\n",
        "\t# create an empty matrix to\n",
        "\t# store deciphered message\n",
        "\tdec_cipher = []\n",
        "\tfor _ in range(row):\n",
        "\t\tdec_cipher += [[None] * col]\n",
        "\n",
        "\t# Arrange the matrix column wise according\n",
        "\t# to permutation order by adding into new matrix\n",
        "\tfor _ in range(col):\n",
        "\t\tcurr_idx = key.index(key_lst[k_indx])\n",
        "\n",
        "\t\tfor j in range(row):\n",
        "\t\t\tdec_cipher[j][curr_idx] = msg_lst[msg_indx]\n",
        "\t\t\tmsg_indx += 1\n",
        "\t\tk_indx += 1\n",
        "\n",
        "\t# convert decrypted msg matrix into a string\n",
        "\ttry:\n",
        "\t\tmsg = ''.join(sum(dec_cipher, []))\n",
        "\texcept TypeError:\n",
        "\t\traise TypeError(\"This program cannot\",\n",
        "\t\t\t\t\t\t\"handle repeating words.\")\n",
        "\n",
        "\tnull_count = msg.count('_')\n",
        "\n",
        "\tif null_count > 0:\n",
        "\t\treturn msg[: -null_count]\n",
        "\n",
        "\treturn msg\n",
        "\n",
        "# Driver Code\n",
        "msg = \"E0120048\"\n",
        "\n",
        "cipher = encryptMessage(msg)\n",
        "print(\"Encrypted Message: {}\".\n",
        "\t\t\tformat(cipher))\n",
        "\n",
        "print(\"Decrypted Message: {}\".\n",
        "\tformat(decryptMessage(cipher)))"
      ],
      "metadata": {
        "colab": {
          "base_uri": "https://localhost:8080/",
          "height": 0
        },
        "id": "jzrm9WjW22P5",
        "outputId": "e5da2e8e-4d46-4714-fd10-934e99a343c4"
      },
      "execution_count": 32,
      "outputs": [
        {
          "output_type": "stream",
          "name": "stdout",
          "text": [
            "Encrypted Message: 04E02_180_\n",
            "Decrypted Message: E0120048\n"
          ]
        }
      ]
    },
    {
      "cell_type": "markdown",
      "source": [
        "# DES -  DATA ENCRYPTION STANDARD"
      ],
      "metadata": {
        "id": "Gp3jrruM2xqP"
      }
    },
    {
      "cell_type": "code",
      "source": [
        "!pip3 install pycryptodome"
      ],
      "metadata": {
        "colab": {
          "base_uri": "https://localhost:8080/",
          "height": 0
        },
        "id": "kl8qBSwb3xSG",
        "outputId": "199a135b-1634-4a6b-ee5c-15b02e895ae9"
      },
      "execution_count": 33,
      "outputs": [
        {
          "output_type": "stream",
          "name": "stdout",
          "text": [
            "Collecting pycryptodome\n",
            "  Downloading pycryptodome-3.18.0-cp35-abi3-manylinux_2_17_x86_64.manylinux2014_x86_64.whl (2.1 MB)\n",
            "\u001b[?25l     \u001b[90m━━━━━━━━━━━━━━━━━━━━━━━━━━━━━━━━━━━━━━━━\u001b[0m \u001b[32m0.0/2.1 MB\u001b[0m \u001b[31m?\u001b[0m eta \u001b[36m-:--:--\u001b[0m\r\u001b[2K     \u001b[91m━━━━━━━━━━━━━━━━━━━━━━━━━━━━\u001b[0m\u001b[90m╺\u001b[0m\u001b[90m━━━━━━━━━━━\u001b[0m \u001b[32m1.5/2.1 MB\u001b[0m \u001b[31m44.9 MB/s\u001b[0m eta \u001b[36m0:00:01\u001b[0m\r\u001b[2K     \u001b[90m━━━━━━━━━━━━━━━━━━━━━━━━━━━━━━━━━━━━━━━━\u001b[0m \u001b[32m2.1/2.1 MB\u001b[0m \u001b[31m33.6 MB/s\u001b[0m eta \u001b[36m0:00:00\u001b[0m\n",
            "\u001b[?25hInstalling collected packages: pycryptodome\n",
            "Successfully installed pycryptodome-3.18.0\n"
          ]
        }
      ]
    },
    {
      "cell_type": "code",
      "source": [
        "\n",
        "\n",
        "from Crypto.Cipher import DES\n",
        "\n",
        "def pad(text):\n",
        "    n = len(text) % 8\n",
        "    for i in range(8-n):\n",
        "        text+=b' '\n",
        "    return text\n",
        "\n",
        "key = b'E0120048'\n",
        "text1 = b'Girishwar'\n",
        "\n",
        "des = DES.new(key, DES.MODE_ECB)\n",
        "\n",
        "padded_text = pad(text1)\n",
        "print(\"Padded Message\",padded_text)\n",
        "encrypted_text = des.encrypt(padded_text)\n",
        "\n",
        "print(\"Encrypted message:\", encrypted_text)\n",
        "print(\"Decrypted Message:\",des.decrypt(encrypted_text))\n"
      ],
      "metadata": {
        "colab": {
          "base_uri": "https://localhost:8080/",
          "height": 0
        },
        "id": "IuCSdyw031xn",
        "outputId": "44b1772a-004c-4794-e56f-0ed9258eff47"
      },
      "execution_count": 39,
      "outputs": [
        {
          "output_type": "stream",
          "name": "stdout",
          "text": [
            "Padded Message b'Girishwar       '\n",
            "Encrypted message: b'N\\xe6\\x1a\\xc1\\xac1\\x03Ua\\xd6\\xfd\\xbf\\x8a\\xdb\\x92\\xa7'\n",
            "Decrypted Message: b'Girishwar       '\n"
          ]
        }
      ]
    },
    {
      "cell_type": "markdown",
      "source": [
        "#AES- ADVANCED ENCRYPTION STANDARD"
      ],
      "metadata": {
        "id": "G52R-V7141he"
      }
    },
    {
      "cell_type": "code",
      "source": [
        "\n",
        "from Crypto.Cipher import AES\n",
        "from Crypto.Random import get_random_bytes\n",
        "\n",
        "data = b'E0120048'\n",
        "\n",
        "key = get_random_bytes(16)\n",
        "cipher = AES.new(key, AES.MODE_EAX)\n",
        "ciphertext, tag = cipher.encrypt_and_digest(data)\n",
        "nonce = cipher.nonce\n",
        "print(nonce)\n",
        "\n",
        "cipher = AES.new(key, AES.MODE_EAX, nonce)\n",
        "data = cipher.decrypt_and_verify(ciphertext, tag)\n",
        "print(data)\n"
      ],
      "metadata": {
        "colab": {
          "base_uri": "https://localhost:8080/",
          "height": 0
        },
        "id": "JQ74UCs-4_TX",
        "outputId": "18f1eebd-1d4b-4a9e-dafa-07115df587b0"
      },
      "execution_count": 41,
      "outputs": [
        {
          "output_type": "stream",
          "name": "stdout",
          "text": [
            "b'{{\\xfa\\xbd\\xf43s\\xb9#\\x19\\xa5D\\xd3/W\\xd9'\n",
            "b'E0120048'\n"
          ]
        }
      ]
    },
    {
      "cell_type": "markdown",
      "source": [
        "#RSA"
      ],
      "metadata": {
        "id": "7sf0D2nB5Js_"
      }
    },
    {
      "cell_type": "code",
      "source": [
        "import rsa\n",
        "# key length should be atleast 16\n",
        "publicKey, privateKey = rsa.newkeys(512)\n",
        "\n",
        "# this is the string that we will be encrypting\n",
        "message = \"CSE 455 CRYPTOGRAPHY\"\n",
        "\n",
        "# rsa.encrypt method is used to encrypt\n",
        "# string with public key string should be\n",
        "# encode to byte string before encryption\n",
        "# with encode method\n",
        "encMessage = rsa.encrypt(message.encode(),\n",
        "\t\t\t\t\t\tpublicKey)\n",
        "\n",
        "print(\"original string: \", message)\n",
        "print(\"encrypted string: \", encMessage)\n",
        "\n",
        "# the encrypted message can be decrypted\n",
        "# with ras.decrypt method and private key\n",
        "# decrypt method returns encoded byte string,\n",
        "# use decode method to convert it to string\n",
        "# public key cannot be used for decryption\n",
        "decMessage = rsa.decrypt(encMessage, privateKey).decode()\n",
        "\n",
        "print(\"decrypted string: \", decMessage)\n"
      ],
      "metadata": {
        "colab": {
          "base_uri": "https://localhost:8080/",
          "height": 0
        },
        "id": "Gzd3lSkB5L1v",
        "outputId": "223ceb26-89cb-4ac2-c489-791083348706"
      },
      "execution_count": 43,
      "outputs": [
        {
          "output_type": "stream",
          "name": "stdout",
          "text": [
            "original string:  CSE 455 CRYPTOGRAPHY\n",
            "encrypted string:  b'\\x14\\x05`-\\x08\\x19\\xb2\\x0f\\xf2Y2\\x1e\\xc1\\xeb\\xadC\"\\x04\\xd9\\xee7VOj\\xec\\x11\\xc5\\x07\\xf3\\xd1\\x92\\xf9\\x8f\\xae\\x9b\\x85\\xcb\\x98\\xf6z\\xdc\\xd1!|\\x015\\xa7F\\x0f\\xec\\xf6*\\x90\\x95]\\xb5\\x86\\xf8\\\\\\xbe\\x0b\\xcfC\\x7f'\n",
            "decrypted string:  CSE 455 CRYPTOGRAPHY\n"
          ]
        }
      ]
    },
    {
      "cell_type": "markdown",
      "source": [
        "# Diffie-Hellman Code"
      ],
      "metadata": {
        "id": "HChIYVBY7wVf"
      }
    },
    {
      "cell_type": "code",
      "source": [
        "def prime_checker(p):\n",
        "\t# Checks If the number entered is a Prime Number or not\n",
        "\tif p < 1:\n",
        "\t\treturn -1\n",
        "\telif p > 1:\n",
        "\t\tif p == 2:\n",
        "\t\t\treturn 1\n",
        "\t\tfor i in range(2, p):\n",
        "\t\t\tif p % i == 0:\n",
        "\t\t\t\treturn -1\n",
        "\t\t\treturn 1\n",
        "\n",
        "\n",
        "def primitive_check(g, p, L):\n",
        "\t# Checks If The Entered Number Is A Primitive Root Or Not\n",
        "\tfor i in range(1, p):\n",
        "\t\tL.append(pow(g, i) % p)\n",
        "\tfor i in range(1, p):\n",
        "\t\tif L.count(i) > 1:\n",
        "\t\t\tL.clear()\n",
        "\t\t\treturn -1\n",
        "\t\treturn 1\n",
        "\n",
        "\n",
        "l = []\n",
        "while 1:\n",
        "\tP = int(input(\"Enter a large prime number : \"))\n",
        "\tif prime_checker(P) == -1:\n",
        "\t\tprint(\"Number Is Not Prime, Please Enter Again!\")\n",
        "\t\tcontinue\n",
        "\tbreak\n",
        "\n",
        "while 1:\n",
        "\tG = int(input(f\"Enter The Primitive Root Of {P} : \"))\n",
        "\tif primitive_check(G, P, l) == -1:\n",
        "\t\tprint(f\"Number Is Not A Primitive Root Of {P}, Please Try Again!\")\n",
        "\t\tcontinue\n",
        "\tbreak\n",
        "\n",
        "# Private Keys\n",
        "x1, x2 = int(input(\"Enter The Private Key Of User 1 : \")), int(\n",
        "\tinput(\"Enter The Private Key Of User 2 : \"))\n",
        "while 1:\n",
        "\tif x1 >= P or x2 >= P:\n",
        "\t\tprint(f\"Private Key Of Both The Users Should Be Less Than {P}!\")\n",
        "\t\tcontinue\n",
        "\tbreak\n",
        "\n",
        "# Calculate Public Keys\n",
        "y1, y2 = pow(G, x1) % P, pow(G, x2) % P\n",
        "\n",
        "# Generate Secret Keys\n",
        "k1, k2 = pow(y2, x1) % P, pow(y1, x2) % P\n",
        "\n",
        "print(f\"\\nSecret Key For User 1 Is {k1}\\nSecret Key For User 2 Is {k2}\\n\")\n",
        "\n",
        "if k1 == k2:\n",
        "\tprint(\"Keys Have Been Exchanged Successfully\")\n",
        "else:\n",
        "\tprint(\"Keys Have Not Been Exchanged Successfully\")\n"
      ],
      "metadata": {
        "colab": {
          "base_uri": "https://localhost:8080/",
          "height": 0
        },
        "id": "2U_gz6Le71Mg",
        "outputId": "50ad55ac-7d5c-4cdb-88e2-9658dce37178"
      },
      "execution_count": 1,
      "outputs": [
        {
          "output_type": "stream",
          "name": "stdout",
          "text": [
            "Enter a large prime number : 97\n",
            "Enter The Primitive Root Of 97 : 5\n",
            "Enter The Private Key Of User 1 : 9\n",
            "Enter The Private Key Of User 2 : 7\n",
            "\n",
            "Secret Key For User 1 Is 51\n",
            "Secret Key For User 2 Is 51\n",
            "\n",
            "Keys Have Been Exchanged Successfully\n"
          ]
        }
      ]
    },
    {
      "cell_type": "markdown",
      "source": [
        "#elgamal"
      ],
      "metadata": {
        "id": "tIESest28plV"
      }
    },
    {
      "cell_type": "code",
      "source": [
        "\n",
        "\n",
        "import random\n",
        "from math import pow\n",
        "\n",
        "a=random.randint(2,10)\n",
        "\n",
        "#To fing gcd of two numbers\n",
        "def gcd(a,b):\n",
        "    if a<b:\n",
        "        return gcd(b,a)\n",
        "    elif a%b==0:\n",
        "        return b\n",
        "    else:\n",
        "        return gcd(b,a%b)\n",
        "\n",
        "#For key generation i.e. large random number\n",
        "def gen_key(q):\n",
        "    key= random.randint(pow(10,20),q)\n",
        "    while gcd(q,key)!=1:\n",
        "        key=random.randint(pow(10,20),q)\n",
        "    return key\n",
        "\n",
        "def power(a,b,c):\n",
        "    x=1\n",
        "    y=a\n",
        "    while b>0:\n",
        "        if b%2==0:\n",
        "            x=(x*y)%c;\n",
        "        y=(y*y)%c\n",
        "        b=int(b/2)\n",
        "    return x%c\n",
        "\n",
        "#For asymetric encryption\n",
        "def encryption(msg,q,h,g):\n",
        "    ct=[]\n",
        "    k=gen_key(q)\n",
        "    s=power(h,k,q)\n",
        "    p=power(g,k,q)\n",
        "    for i in range(0,len(msg)):\n",
        "        ct.append(msg[i])\n",
        "    print(\"g^k used= \",p)\n",
        "    print(\"g^ak used= \",s)\n",
        "    for i in range(0,len(ct)):\n",
        "        ct[i]=s*ord(ct[i])\n",
        "    return ct,p\n",
        "\n",
        "#For decryption\n",
        "def decryption(ct,p,key,q):\n",
        "    pt=[]\n",
        "    h=power(p,key,q)\n",
        "    for i in range(0,len(ct)):\n",
        "        pt.append(chr(int(ct[i]/h)))\n",
        "    return pt\n",
        "\n",
        "\n",
        "msg=input(\"Enter message:\")\n",
        "q=random.randint(pow(10,20),pow(10,50))\n",
        "g=random.randint(2,q)\n",
        "key=gen_key(q)\n",
        "h=power(g,key,q)\n",
        "print(\"g used=\",g)\n",
        "print(\"g^a used=\",h)\n",
        "ct,p=encryption(msg,q,h,g)\n",
        "print(\"Original Message=\",msg)\n",
        "print(\"Encrypted Maessage=\",ct)\n",
        "pt=decryption(ct,p,key,q)\n",
        "d_msg=''.join(pt)\n",
        "print(\"Decrypted Message=\",d_msg)\n"
      ],
      "metadata": {
        "colab": {
          "base_uri": "https://localhost:8080/",
          "height": 0
        },
        "id": "TK3mm-eL8sGN",
        "outputId": "9598a929-f1c6-4b1e-b4a6-d3d30a7098ef"
      },
      "execution_count": 2,
      "outputs": [
        {
          "output_type": "stream",
          "name": "stdout",
          "text": [
            "Enter message:House Of Dragons\n",
            "g used= 9128010166085058359556270855759626106725871506744\n",
            "g^a used= 12629166462987508321115111004794771711466337785147\n",
            "g^k used=  12699594874856843428905593206056544007846043397924\n",
            "g^ak used=  4571322532049408128744232147340147519670607004028\n",
            "Original Message= House Of Dragons\n",
            "Encrypted Maessage= [329135222307557385269584714608490621416283704290016, 507416801057484302290609768354756374683437377447108, 534844736249780751063075161238797259801461019471276, 525702091185681934805586696944116964762119805463220, 461703575736990221003167446881354899486731307406828, 146282321025581060119815428714884720629459424128896, 361134480031903242170794339639871654053977953318212, 466274898269039629131911679028695047006401914410856, 146282321025581060119815428714884720629459424128896, 310849932179359752754607786019130031337601276273904, 521130768653632526676842464796776817242449198459192, 443418285608792588488190518291994309408048879390716, 470846220801089037260655911176035194526072521414884, 507416801057484302290609768354756374683437377447108, 502845478525434894161865536207416227163766770443080, 525702091185681934805586696944116964762119805463220]\n",
            "Decrypted Message= House Of Dragons\n"
          ]
        }
      ]
    },
    {
      "cell_type": "markdown",
      "source": [
        "# HASH FUNCTION"
      ],
      "metadata": {
        "id": "QJRqwVG586Wn"
      }
    },
    {
      "cell_type": "code",
      "source": [
        "\n",
        "\n",
        "# Python 3 code to demonstrate\n",
        "# SHA hash algorithms.\n",
        "\n",
        "import hashlib\n",
        "\n",
        "# initializing string\n",
        "str = \"The Night King\"\n",
        "\n",
        "# encoding The Night King using encode()\n",
        "# then sending to SHA256()\n",
        "result = hashlib.sha256(str.encode())\n",
        "\n",
        "# printing the equivalent hexadecimal value.\n",
        "print(\"The hexadecimal equivalent of SHA256 is : \")\n",
        "print(result.hexdigest())\n",
        "\n",
        "print (\"\\r\")\n",
        "\n",
        "# initializing string\n",
        "str = \"The Night King\"\n",
        "\n",
        "# encoding The Night King using encode()\n",
        "# then sending to SHA384()\n",
        "result = hashlib.sha384(str.encode())\n",
        "\n",
        "# printing the equivalent hexadecimal value.\n",
        "print(\"The hexadecimal equivalent of SHA384 is : \")\n",
        "print(result.hexdigest())\n",
        "\n",
        "print (\"\\r\")\n",
        "\n",
        "# initializing string\n",
        "str = \"The Night King\"\n",
        "\n",
        "# encoding The Night King using encode()\n",
        "# then sending to SHA224()\n",
        "result = hashlib.sha224(str.encode())\n",
        "\n",
        "# printing the equivalent hexadecimal value.\n",
        "print(\"The hexadecimal equivalent of SHA224 is : \")\n",
        "print(result.hexdigest())\n",
        "\n",
        "print (\"\\r\")\n",
        "\n",
        "# initializing string\n",
        "str = \"The Night King\"\n",
        "\n",
        "# encoding The Night King using encode()\n",
        "# then sending to SHA512()\n",
        "result = hashlib.sha512(str.encode())\n",
        "\n",
        "# printing the equivalent hexadecimal value.\n",
        "print(\"The hexadecimal equivalent of SHA512 is : \")\n",
        "print(result.hexdigest())\n",
        "\n",
        "print (\"\\r\")\n",
        "\n",
        "# initializing string\n",
        "str = \"The Night King\"\n",
        "\n",
        "# encoding The Night King using encode()\n",
        "# then sending to SHA1()\n",
        "result = hashlib.sha1(str.encode())\n",
        "\n",
        "# printing the equivalent hexadecimal value.\n",
        "print(\"The hexadecimal equivalent of SHA1 is : \")\n",
        "print(result.hexdigest())\n"
      ],
      "metadata": {
        "colab": {
          "base_uri": "https://localhost:8080/",
          "height": 0
        },
        "id": "pOJcv7ga88H3",
        "outputId": "b1a51a98-5768-464c-bc99-2d65976c15bd"
      },
      "execution_count": 4,
      "outputs": [
        {
          "output_type": "stream",
          "name": "stdout",
          "text": [
            "The hexadecimal equivalent of SHA256 is : \n",
            "fdc2d76acfa9bd77c52ba03e6eb8ffd9e3ee32abfc1b60207e4e3069b3532771\n",
            "\r\n",
            "The hexadecimal equivalent of SHA384 is : \n",
            "f2142507932085d52a473e24fc4aeb37c8809b67956e1add0647d15df7c246cc399970fde75087cf9e5a957d596b9c04\n",
            "\r\n",
            "The hexadecimal equivalent of SHA224 is : \n",
            "9f6b763952f5bdb59eefcdc77c37bae6217260900d2b9f067f1a7408\n",
            "\r\n",
            "The hexadecimal equivalent of SHA512 is : \n",
            "210a8caa8d6ac90d64d68acbd9c0e1139c2018e133aa0b0cec03f6447e8925ae7b7a08b560589c3a51b8aae1cac97aaf08234066870c14fad53cf99b33574da9\n",
            "\r\n",
            "The hexadecimal equivalent of SHA1 is : \n",
            "44c4443989e8c31639e5b5e6a6b38d1152f804f1\n"
          ]
        }
      ]
    },
    {
      "cell_type": "markdown",
      "source": [],
      "metadata": {
        "id": "4JAcaRDy9az4"
      }
    }
  ]
}